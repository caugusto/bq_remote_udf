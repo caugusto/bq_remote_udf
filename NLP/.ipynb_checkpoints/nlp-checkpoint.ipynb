{
 "cells": [
  {
   "cell_type": "markdown",
   "id": "4ae74e06-a7ab-49db-ae98-74c1261c3a4f",
   "metadata": {},
   "source": [
    "## Understand what service account is executing this Notebook as additional privileges will need to be given to the service account in order to execute all steps listed here."
   ]
  },
  {
   "cell_type": "code",
   "execution_count": null,
   "id": "dd1382e0-ad43-4e87-804c-bb1b0fc277c8",
   "metadata": {},
   "outputs": [],
   "source": [
    "! gcloud auth list"
   ]
  },
  {
   "cell_type": "markdown",
   "id": "93811729-713d-4f70-b045-3950b531006e",
   "metadata": {},
   "source": [
    "## Enable the following APIs in your project: \n",
    "- BigQuery Connection API\n",
    "- Cloud Functions \n",
    "\n",
    "## Also, if you are running everything from a VertexAI Workbench, please make sure the account listed by 'gcloud auth list' has roles:\n",
    "- BigQuery Admin\n",
    "- BigQuery Connection Admin\n",
    "- Cloud Functions Admin "
   ]
  },
  {
   "cell_type": "markdown",
   "id": "e9b08abd-2d37-400f-9a12-000bbc5f08a0",
   "metadata": {},
   "source": [
    "## Deploy the Cloud Function by running the command below"
   ]
  },
  {
   "cell_type": "code",
   "execution_count": null,
   "id": "ff36a7a9-32ef-457b-bc59-9fc802520fdd",
   "metadata": {},
   "outputs": [],
   "source": [
    "! gcloud functions deploy nlp_handler \\\n",
    "--runtime python310 --trigger-http"
   ]
  },
  {
   "cell_type": "markdown",
   "id": "cecbd1fc-4923-49ce-ad4a-25d30d492b4a",
   "metadata": {},
   "source": [
    "## Define the variables below ... Change accordinly"
   ]
  },
  {
   "cell_type": "code",
   "execution_count": null,
   "id": "d119e24f-2e1f-4681-8b4e-4753df926339",
   "metadata": {},
   "outputs": [],
   "source": [
    "PROJECT_ID=\"<change-me>\"\n",
    "LOCATION=\"US\"\n",
    "DATASET=\"remote_functions\"\n",
    "REMOTE_CONNECTION_NAME=\"remote_cloudfunc_conn\""
   ]
  },
  {
   "cell_type": "markdown",
   "id": "89a6b0e9-c248-410e-a9b1-d15368a28cad",
   "metadata": {},
   "source": [
    "## Set gcloud project id"
   ]
  },
  {
   "cell_type": "code",
   "execution_count": null,
   "id": "de4144c2-ac8b-4df1-9048-93cb6b4e2fd3",
   "metadata": {},
   "outputs": [],
   "source": [
    "! gcloud config set project $PROJECT_ID"
   ]
  },
  {
   "cell_type": "markdown",
   "id": "af98e75a-be6c-412a-a5be-f66fb27a2f1c",
   "metadata": {},
   "source": [
    "## Create a BQ remote connection"
   ]
  },
  {
   "cell_type": "code",
   "execution_count": null,
   "id": "6bc08dd8-419a-4d94-9292-7f7ce3458043",
   "metadata": {},
   "outputs": [],
   "source": [
    "! bq mk --connection --display_name='Remote Connection Cloud Function' --connection_type=CLOUD_RESOURCE --project_id=$PROJECT_ID --location=$LOCATION $REMOTE_CONNECTION_NAME"
   ]
  },
  {
   "cell_type": "markdown",
   "id": "1deedd92-3bf7-4b30-92c9-b10cf7f3addd",
   "metadata": {},
   "source": [
    "## Create a new BQ dataset for this test "
   ]
  },
  {
   "cell_type": "code",
   "execution_count": null,
   "id": "fb1480cd-ac58-41e8-9e1f-a87b29a0a847",
   "metadata": {},
   "outputs": [],
   "source": [
    "! bq --location=$LOCATION mk -d \\\n",
    "    --description \"This is my test dataset.\" \\\n",
    "    $DATASET"
   ]
  },
  {
   "cell_type": "markdown",
   "id": "39a5579d-a0fd-47d4-b031-5526effbbc6f",
   "metadata": {},
   "source": [
    "## Retrieve the service account identifier associated with the newly created BQ remote connection"
   ]
  },
  {
   "cell_type": "code",
   "execution_count": null,
   "id": "c9fa172d-d4ba-4166-b773-a19bc25326ca",
   "metadata": {},
   "outputs": [],
   "source": [
    "! bq ls --location=$LOCATION --connection $REMOTE_CONNECTION_NAME"
   ]
  },
  {
   "cell_type": "markdown",
   "id": "1641ae8c-fdfd-41e0-81c7-c4a9e0f8df72",
   "metadata": {},
   "source": [
    "## Assign role \"Cloud Functions Invoker\" to the service account associated with the remote connection above. The command above displays the service account name"
   ]
  },
  {
   "cell_type": "markdown",
   "id": "844db09e-fdc9-453f-ae10-95bfbb68aad9",
   "metadata": {},
   "source": [
    "## Create a BigQuery Remote UDF, pointing to: \n",
    "- The newly created function endpoint\n",
    "- Use the connection id returned by the command \"bq show connection\" above"
   ]
  },
  {
   "cell_type": "code",
   "execution_count": null,
   "id": "6d2fe545-cf00-4e77-ba7c-54d687a8d122",
   "metadata": {},
   "outputs": [],
   "source": [
    "%%bigquery --project $PROJECT_ID\n",
    "CREATE OR REPLACE FUNCTION `remote_functions.call_nlp` (x STRING) RETURNS STRING \n",
    "REMOTE WITH CONNECTION `<YOUR_REMOTE_CONNECTION_NAME>` \n",
    "OPTIONS (endpoint = '<YOUR_FUNCTION_ENDPOINT>', user_defined_context = [(\"mode\",\"call_nlp\")])\n",
    ";"
   ]
  },
  {
   "cell_type": "markdown",
   "id": "5bafa1c1-a013-43bf-8188-177ddc0f8b1c",
   "metadata": {},
   "source": [
    "## Execute a sample SQL statement including the remote UDF"
   ]
  },
  {
   "cell_type": "code",
   "execution_count": null,
   "id": "4445b2b8-47bc-4cb8-8e33-aaea8f45e7da",
   "metadata": {},
   "outputs": [],
   "source": [
    "%%bigquery\n",
    "select remote_functions.call_nlp(\"This new feature is fantastic!\")"
   ]
  },
  {
   "cell_type": "code",
   "execution_count": null,
   "id": "afe7e67f-3b63-4b41-a91e-7be003c7f78c",
   "metadata": {},
   "outputs": [],
   "source": [
    "%%bigquery\n",
    "SELECT text, remote_functions.call_nlp(text) as score FROM (SELECT text FROM `bigquery-public-data.hacker_news.full` LIMIT 5);\n"
   ]
  },
  {
   "cell_type": "code",
   "execution_count": null,
   "id": "4dd654f9-83ce-425f-9e52-afb545dd0513",
   "metadata": {},
   "outputs": [],
   "source": []
  }
 ],
 "metadata": {
  "environment": {
   "kernel": "python3",
   "name": "common-cpu.m96",
   "type": "gcloud",
   "uri": "gcr.io/deeplearning-platform-release/base-cpu:m96"
  },
  "kernelspec": {
   "display_name": "Python 3",
   "language": "python",
   "name": "python3"
  },
  "language_info": {
   "codemirror_mode": {
    "name": "ipython",
    "version": 3
   },
   "file_extension": ".py",
   "mimetype": "text/x-python",
   "name": "python",
   "nbconvert_exporter": "python",
   "pygments_lexer": "ipython3",
   "version": "3.7.12"
  }
 },
 "nbformat": 4,
 "nbformat_minor": 5
}
