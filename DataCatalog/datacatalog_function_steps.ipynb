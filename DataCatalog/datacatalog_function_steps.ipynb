{
 "cells": [
  {
   "cell_type": "markdown",
   "id": "e82b7ae8-4aa0-4dc3-8b12-dd0fad374f70",
   "metadata": {},
   "source": [
    "### Assign role DLP User to the service account running the function (found under the function details)... Generally the App Engine default service account"
   ]
  },
  {
   "cell_type": "markdown",
   "id": "1641ae8c-fdfd-41e0-81c7-c4a9e0f8df72",
   "metadata": {},
   "source": [
    "### Deploy the Cloud Function"
   ]
  },
  {
   "cell_type": "code",
   "execution_count": null,
   "id": "b87f98c6-51b4-471c-b68a-f94d9aa68f45",
   "metadata": {},
   "outputs": [],
   "source": [
    "! gcloud functions deploy catalog_handler \\\n",
    "--runtime python310 --trigger-http"
   ]
  },
  {
   "cell_type": "code",
   "execution_count": null,
   "id": "6d2fe545-cf00-4e77-ba7c-54d687a8d122",
   "metadata": {},
   "outputs": [],
   "source": [
    "%%bigquery \n",
    "CREATE OR REPLACE FUNCTION `<project>.<dataset>.catalog_upsert` (msg STRING, dataset STRING, table_name STRING, total_rows FLOAT64, changed_rows FLOAT64) RETURNS STRING \n",
    "REMOTE WITH CONNECTION `<remote-connection-id>` \n",
    "OPTIONS \n",
    "(endpoint = 'https://<change-me>.cloudfunctions.net/catalog_handler', \n",
    " user_defined_context = [(\"mode\",\"upsert\")]\n",
    ")\n",
    ";"
   ]
  },
  {
   "cell_type": "code",
   "execution_count": null,
   "id": "a3a034b0-f876-406f-8afc-e1560b8e9d6f",
   "metadata": {},
   "outputs": [],
   "source": [
    "%%bigquery\n",
    "select <dataset>.catalog_upsert(\"From hourly BQ Remote Function ETL Job\",\"remote_udf\",\"callcenter_records\",300,21)"
   ]
  },
  {
   "cell_type": "code",
   "execution_count": null,
   "id": "69c72c37-7db3-49c2-a4f9-2cd5e22e40b1",
   "metadata": {},
   "outputs": [],
   "source": []
  }
 ],
 "metadata": {
  "environment": {
   "kernel": "python3",
   "name": "common-cpu.m96",
   "type": "gcloud",
   "uri": "gcr.io/deeplearning-platform-release/base-cpu:m96"
  },
  "kernelspec": {
   "display_name": "Python 3",
   "language": "python",
   "name": "python3"
  },
  "language_info": {
   "codemirror_mode": {
    "name": "ipython",
    "version": 3
   },
   "file_extension": ".py",
   "mimetype": "text/x-python",
   "name": "python",
   "nbconvert_exporter": "python",
   "pygments_lexer": "ipython3",
   "version": "3.7.12"
  }
 },
 "nbformat": 4,
 "nbformat_minor": 5
}
