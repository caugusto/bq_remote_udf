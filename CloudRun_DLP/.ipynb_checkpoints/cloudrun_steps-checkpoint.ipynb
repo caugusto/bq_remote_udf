{
 "cells": [
  {
   "cell_type": "markdown",
   "id": "9d90c700-c133-404f-a2d9-c576f7484e4c",
   "metadata": {},
   "source": [
    "Have to enable Cloud Key Management Service (KMS) API and create a KMS keyring and key"
   ]
  },
  {
   "cell_type": "markdown",
   "id": "93a7e9df-3343-4003-a9a6-2e5ea576ab2c",
   "metadata": {},
   "source": [
    "https://cloud.google.com/dlp/docs/transformations-reference#de"
   ]
  },
  {
   "cell_type": "markdown",
   "id": "23920b8f-63b8-4291-a734-2175b76aa2cc",
   "metadata": {},
   "source": [
    "Also need to enable DLP API on the project and give role \"DLP User\" to gcloud auth list user"
   ]
  },
  {
   "cell_type": "markdown",
   "id": "56c39246-1dd6-44fa-a385-40690f6fcbf0",
   "metadata": {},
   "source": [
    "Creating a wrapped key ... https://cloud.google.com/dlp/docs/create-wrapped-key"
   ]
  },
  {
   "cell_type": "markdown",
   "id": "e27198e4-a6e2-44d3-b548-f47cd8949564",
   "metadata": {},
   "source": [
    "Create a 128-, 192-, or 256-bit AES key. The following command uses openssl to create a 256-bit key in the current directory:"
   ]
  },
  {
   "cell_type": "code",
   "execution_count": null,
   "id": "bc515f71-1e66-4bdf-babe-2cb2291af23a",
   "metadata": {},
   "outputs": [],
   "source": [
    "!openssl rand -out \"./aes_key.bin\" 32"
   ]
  },
  {
   "cell_type": "markdown",
   "id": "cccc78e5-46bb-44b8-b549-2a6d7376cb1c",
   "metadata": {},
   "source": [
    "Encode the AES key as a base64 string:"
   ]
  },
  {
   "cell_type": "code",
   "execution_count": null,
   "id": "d443ef86-b712-4353-9bf3-512a2302d514",
   "metadata": {},
   "outputs": [],
   "source": [
    "!base64 -i ./aes_key.bin"
   ]
  },
  {
   "cell_type": "markdown",
   "id": "136b24f4-d123-4586-9255-6dae513ab043",
   "metadata": {},
   "source": [
    "Give roles \"KMS Admin\" and \"KMS Encrypt/Decrypt\" to the user returned by  \"gcloud auth list\" (running this notebook)"
   ]
  },
  {
   "cell_type": "markdown",
   "id": "8a4ac1aa-78fe-48ef-a5a3-20ee91fed4b8",
   "metadata": {},
   "source": [
    "To wrap the AES key, use curl to send the following request to the Cloud KMS API projects.locations.keyRings.cryptoKeys.encrypt:"
   ]
  },
  {
   "cell_type": "code",
   "execution_count": null,
   "id": "631c0b1a-fabf-4ab6-8341-e4263538dec5",
   "metadata": {},
   "outputs": [],
   "source": [
    "!curl \"https://cloudkms.googleapis.com/v1/projects/<your-project>/locations/global/keyRings/<your-keyring>/cryptoKeys/<your-keynname>:encrypt\" \\\n",
    "  --request \"POST\" \\\n",
    "  --header \"Authorization:Bearer $(gcloud auth application-default print-access-token)\" \\\n",
    "  --header \"content-type: application/json\" \\\n",
    "  --data \"{\\\"plaintext\\\": \\\"<change to value returned from command base64 -i ./aes_key.bin>\\\"}\""
   ]
  },
  {
   "cell_type": "markdown",
   "id": "bfadf87e-35d7-4165-932a-a51c44befbfc",
   "metadata": {},
   "source": [
    "Learn how to deploy a CloudRun service at"
   ]
  },
  {
   "cell_type": "markdown",
   "id": "f5b05c49-0c18-4c00-a9ba-e69999e113fb",
   "metadata": {},
   "source": [
    "https://cloud.google.com/run/docs/quickstarts/build-and-deploy/deploy-python-service"
   ]
  },
  {
   "cell_type": "code",
   "execution_count": null,
   "id": "3465607d-4caa-4d23-a9c4-035bff3d635d",
   "metadata": {},
   "outputs": [],
   "source": [
    "!gcloud run deploy dlphandler --source /<change-me>/DLP/CloudRun_DLP --region <your_region> --no-allow-unauthenticated"
   ]
  },
  {
   "cell_type": "code",
   "execution_count": null,
   "id": "ec7ec68e-b5c8-4149-9ead-80aa196035b4",
   "metadata": {},
   "outputs": [],
   "source": [
    "%%bigquery \n",
    "CREATE OR REPLACE FUNCTION `<project>.<dataset>.cloudrun_dlp_encrypt` (x STRING) RETURNS STRING \n",
    "REMOTE WITH CONNECTION `<your-connection-id>` \n",
    "OPTIONS (endpoint = 'https://<your-endpoint>.a.run.app', user_defined_context = [(\"mode\",\"encrypt\")])\n",
    ";"
   ]
  },
  {
   "cell_type": "code",
   "execution_count": null,
   "id": "b832d0a7-bc5a-4110-9215-75af30a02f33",
   "metadata": {},
   "outputs": [],
   "source": [
    "%%bigquery \n",
    "CREATE OR REPLACE FUNCTION `<project>.<dataset>.cloudrun_dlp_decrypt` (x STRING) RETURNS STRING \n",
    "REMOTE WITH CONNECTION `<your-connection-id>` \n",
    "OPTIONS (endpoint = 'https://<your-endpoint>.a.run.app', user_defined_context = [(\"mode\",\"decrypt\")])\n",
    ";"
   ]
  },
  {
   "cell_type": "code",
   "execution_count": null,
   "id": "9ef3afee-1c64-43f6-af84-3b718e1e181a",
   "metadata": {},
   "outputs": [],
   "source": [
    "%%bigquery\n",
    "select <dataset>.cloudrun_dlp_encrypt(\"(407)385-4345\")"
   ]
  },
  {
   "cell_type": "code",
   "execution_count": null,
   "id": "1bf35cfb-8dbd-4c69-8a28-0ae5bdcec310",
   "metadata": {},
   "outputs": [],
   "source": [
    "%%bigquery\n",
    "select <dataset>.cloudrun_dlp_decrypt(\"<change-for-full-value-returned-from-dlp-encrypt>\")\n"
   ]
  }
 ],
 "metadata": {
  "environment": {
   "kernel": "python3",
   "name": "common-cpu.m96",
   "type": "gcloud",
   "uri": "gcr.io/deeplearning-platform-release/base-cpu:m96"
  },
  "kernelspec": {
   "display_name": "Python 3",
   "language": "python",
   "name": "python3"
  },
  "language_info": {
   "codemirror_mode": {
    "name": "ipython",
    "version": 3
   },
   "file_extension": ".py",
   "mimetype": "text/x-python",
   "name": "python",
   "nbconvert_exporter": "python",
   "pygments_lexer": "ipython3",
   "version": "3.7.12"
  }
 },
 "nbformat": 4,
 "nbformat_minor": 5
}
