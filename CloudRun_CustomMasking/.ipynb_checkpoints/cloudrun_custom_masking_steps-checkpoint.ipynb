{
 "cells": [
  {
   "cell_type": "code",
   "execution_count": null,
   "id": "45255023-72ef-4944-8fb1-addaf1c54a31",
   "metadata": {},
   "outputs": [],
   "source": []
  },
  {
   "cell_type": "markdown",
   "id": "0f41193b-b261-4fe9-884d-d4a45c4c0668",
   "metadata": {},
   "source": [
    "BigQuery Data Masking has limited types of masking. The goal here is to expand the masking capabilities by using DLP. We can create a custom info_type to replace every character if we want to"
   ]
  },
  {
   "cell_type": "markdown",
   "id": "3c3483da-ea48-4631-9bd4-479f2cec6cd7",
   "metadata": {},
   "source": [
    "https://cloud.google.com/bigquery/docs/column-data-masking-intro#masking_options  ### Data Masking Options today\n",
    "Nullify\n",
    "Default Masking Value\n",
    "Hash (SHA256)"
   ]
  },
  {
   "cell_type": "markdown",
   "id": "80ed9705-0911-41e5-aca0-8f972b3b9b04",
   "metadata": {},
   "source": [
    "https://cloud.google.com/dlp/docs/creating-custom-infotypes-regex"
   ]
  },
  {
   "cell_type": "markdown",
   "id": "57a2e7f4-c000-4cb0-b115-f755640ac2eb",
   "metadata": {},
   "source": [
    "https://cloud.google.com/run/docs/quickstarts/build-and-deploy/deploy-python-service"
   ]
  },
  {
   "cell_type": "code",
   "execution_count": null,
   "id": "3465607d-4caa-4d23-a9c4-035bff3d635d",
   "metadata": {},
   "outputs": [],
   "source": [
    "!gcloud run deploy custom-masking-handler --source /<change-me>/CloudRun_CustomMasking --region <change-me> --no-allow-unauthenticated"
   ]
  },
  {
   "cell_type": "code",
   "execution_count": null,
   "id": "ec7ec68e-b5c8-4149-9ead-80aa196035b4",
   "metadata": {},
   "outputs": [],
   "source": [
    "%%bigquery \n",
    "CREATE OR REPLACE FUNCTION `<project>.<dataset>.custom_masking_handler` (x STRING) RETURNS STRING \n",
    "REMOTE WITH CONNECTION `<your-connection-id>` \n",
    "OPTIONS (endpoint = 'https://<your-endpoint>.a.run.app', user_defined_context = [(\"mode\",\"mask\")])\n",
    ";"
   ]
  },
  {
   "cell_type": "code",
   "execution_count": null,
   "id": "9ef3afee-1c64-43f6-af84-3b718e1e181a",
   "metadata": {},
   "outputs": [],
   "source": [
    "%%bigquery\n",
    "select <dataset>.custom_masking_handler(\"Bank A\")"
   ]
  },
  {
   "cell_type": "code",
   "execution_count": null,
   "id": "043bc8db-9b7c-4f96-a55a-baaed7f19806",
   "metadata": {},
   "outputs": [],
   "source": []
  }
 ],
 "metadata": {
  "environment": {
   "kernel": "python3",
   "name": "common-cpu.m96",
   "type": "gcloud",
   "uri": "gcr.io/deeplearning-platform-release/base-cpu:m96"
  },
  "kernelspec": {
   "display_name": "Python 3",
   "language": "python",
   "name": "python3"
  },
  "language_info": {
   "codemirror_mode": {
    "name": "ipython",
    "version": 3
   },
   "file_extension": ".py",
   "mimetype": "text/x-python",
   "name": "python",
   "nbconvert_exporter": "python",
   "pygments_lexer": "ipython3",
   "version": "3.7.12"
  }
 },
 "nbformat": 4,
 "nbformat_minor": 5
}
