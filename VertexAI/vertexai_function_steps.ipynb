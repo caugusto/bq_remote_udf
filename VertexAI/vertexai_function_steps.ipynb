{
 "cells": [
  {
   "cell_type": "markdown",
   "id": "fd3c0926-f4df-417b-a7f7-915337102ec5",
   "metadata": {},
   "source": [
    "## First, enable BigQuery Connection API. Also, if you are running everything from Notebooks, please make sure the account listed by 'gcloud auth list' has roles \"BigQuery Admin\" and \"Cloud Functions Admin\" in order to successfully execute all steps"
   ]
  },
  {
   "cell_type": "markdown",
   "id": "5138991e-2e22-4ff0-9fe0-2c13995f383d",
   "metadata": {},
   "source": [
    "! bq mk --connection --display_name='remote_cloud_function_connection' --connection_type=CLOUD_RESOURCE --project_id=<your-project-id> --location=<your-location-like-US> remote_cloudfunc_conn"
   ]
  },
  {
   "cell_type": "markdown",
   "id": "39a5579d-a0fd-47d4-b031-5526effbbc6f",
   "metadata": {},
   "source": [
    "## You can retrieve the service account identifier, which you can do by using the bq command-line tool as shown in the following example (some output columns have been omitted for clarity of the example)."
   ]
  },
  {
   "cell_type": "code",
   "execution_count": null,
   "id": "c9fa172d-d4ba-4166-b773-a19bc25326ca",
   "metadata": {},
   "outputs": [],
   "source": [
    "! bq show --location=US --connection  remote_cloudfunc_conn"
   ]
  },
  {
   "cell_type": "markdown",
   "id": "334bd9bd-118d-4718-a559-24318e7675f3",
   "metadata": {},
   "source": [
    "## Create a BQML penguin model following steps from https://cloud.google.com/bigquery-ml/docs/linear-regression-tutorial"
   ]
  },
  {
   "cell_type": "markdown",
   "id": "e82b7ae8-4aa0-4dc3-8b12-dd0fad374f70",
   "metadata": {},
   "source": [
    "## Export the model using BQ Console (https://cloud.google.com/bigquery-ml/docs/exporting-models#exporting_models) "
   ]
  },
  {
   "cell_type": "markdown",
   "id": "d15a830c-6084-40d0-b685-d428feb956aa",
   "metadata": {},
   "source": [
    "## Import the exported model into Vertex AI (https://cloud.google.com/vertex-ai/docs/model-registry/import-model#pre-built-container). Select \"Import model artifacts into a new pre-built container\" and the pick TensorFlow as the model framework and latest version. Select the gcs location where the exported model is located (example: gs://ca_export_bqmodels/penguin-mass/)."
   ]
  },
  {
   "cell_type": "markdown",
   "id": "1641ae8c-fdfd-41e0-81c7-c4a9e0f8df72",
   "metadata": {},
   "source": [
    "## Deploy an online endpoint on the newly imported model (https://cloud.google.com/vertex-ai/docs/predictions/deploy-model-console#custom-trained)"
   ]
  },
  {
   "cell_type": "markdown",
   "id": "423f7973-3fbb-4113-8d73-3bc55a54662d",
   "metadata": {},
   "source": [
    "## Open main.py and update these lines to reflect your setup (endpoint id is found at Vertex AI endpoint details):\n",
    "    project=\"<change-me>\"\n",
    "    location=\"<your-region>\"\n",
    "    endpoint=\"<your-vertexai-online-endpoint>\""
   ]
  },
  {
   "cell_type": "markdown",
   "id": "4fa7d65b-cbc7-4a89-a713-a3fea2ce1562",
   "metadata": {},
   "source": [
    "## Using IAM, assign role \"AI Platform Developer\" to the following service accounts:\n",
    "- The one listed as output of command (bq show --location=US --connection ...). One of the steps above\n",
    "- The Cloud Function service account (found under the Cloud Function details tab)"
   ]
  },
  {
   "cell_type": "markdown",
   "id": "88ad9c38-34fd-4d58-a92c-40ddc430c43c",
   "metadata": {},
   "source": [
    "## Deploy the Cloud Function"
   ]
  },
  {
   "cell_type": "code",
   "execution_count": null,
   "id": "b87f98c6-51b4-471c-b68a-f94d9aa68f45",
   "metadata": {},
   "outputs": [],
   "source": [
    "! gcloud functions deploy ai_handler \\\n",
    "--runtime python310 --trigger-http"
   ]
  },
  {
   "cell_type": "markdown",
   "id": "1d2310b6-d1ba-4be1-8b26-336f9682a103",
   "metadata": {},
   "source": [
    "### The \"gcloud auth list\" user running notebook needs to have the permission bigquery.routines.create on the dataset where you create the remote function, and bigquery.connections.delegate permission (e.g. via BigQuery Connection Admin role) on the connection which is used by the remote function. BigQuery Admin role should do it as well."
   ]
  },
  {
   "cell_type": "markdown",
   "id": "b6d95777-83db-4918-a9cb-59bc8363fe4f",
   "metadata": {},
   "source": [
    "## Create the BQ remote function, pointing to the newly deploy Cloud Function. Please update the project, dataset, connection id and endpoint parameters accordinly"
   ]
  },
  {
   "cell_type": "code",
   "execution_count": null,
   "id": "6d2fe545-cf00-4e77-ba7c-54d687a8d122",
   "metadata": {},
   "outputs": [],
   "source": [
    "%%bigquery \n",
    "CREATE OR REPLACE FUNCTION `<project>.<dataset>.predict_penguin_weight` (species STRING, island STRING, sex STRING, culmen_length_mm FLOAT64, culmen_depth_mm FLOAT64, flipper_length_mm FLOAT64) RETURNS STRING \n",
    "REMOTE WITH CONNECTION `<your-connection-name>` \n",
    "OPTIONS \n",
    "(endpoint = 'https://<your-location>.cloudfunctions.net/ai_handler', \n",
    " user_defined_context = [(\"mode\",\"penguin_weight\")]\n",
    ")\n",
    ";"
   ]
  },
  {
   "cell_type": "markdown",
   "id": "47cdd6d5-ef65-4301-a263-f87c578ca290",
   "metadata": {},
   "source": [
    "### Test your remote function\n",
    "Hint: If the function does not return in less than 10 seconds, check the Cloud Function logs and look for errors"
   ]
  },
  {
   "cell_type": "code",
   "execution_count": null,
   "id": "d631c25d-cc3d-4536-9b19-18b3ac6cb814",
   "metadata": {},
   "outputs": [],
   "source": [
    "%%bigquery\n",
    "select <dataset>.predict_penguin_weight(\"Adelie Penguin (Pygoscelis adeliae)\",\"Dream\",\"MALE\",56.5,21,204)\n"
   ]
  },
  {
   "cell_type": "markdown",
   "id": "f3ca31be-76a2-4879-81c6-9c8a1b6caf8c",
   "metadata": {},
   "source": [
    "### You can now run some more advanced SQL statements, joining the function"
   ]
  },
  {
   "cell_type": "code",
   "execution_count": null,
   "id": "69c72c37-7db3-49c2-a4f9-2cd5e22e40b1",
   "metadata": {},
   "outputs": [],
   "source": [
    "%%bigquery\n",
    "\n",
    "with penguins as(\n",
    "select * from `bigquery-public-data.ml_datasets.penguins` LIMIT 1\n",
    ")\n",
    "select body_mass_g as actual_weight, \n",
    "<dataset>.predict_penguin_weight(species,\n",
    "                                  island,\n",
    "                                  sex,\n",
    "                                  culmen_length_mm,\n",
    "                                  culmen_depth_mm,\n",
    "                                  flipper_length_mm) as predicted_weight\n",
    "FROM\n",
    "  penguins;"
   ]
  },
  {
   "cell_type": "code",
   "execution_count": null,
   "id": "fbe7dd41-eb86-477e-b1fb-8784ac69e618",
   "metadata": {},
   "outputs": [],
   "source": []
  }
 ],
 "metadata": {
  "environment": {
   "kernel": "python3",
   "name": "common-cpu.m96",
   "type": "gcloud",
   "uri": "gcr.io/deeplearning-platform-release/base-cpu:m96"
  },
  "kernelspec": {
   "display_name": "Python 3",
   "language": "python",
   "name": "python3"
  },
  "language_info": {
   "codemirror_mode": {
    "name": "ipython",
    "version": 3
   },
   "file_extension": ".py",
   "mimetype": "text/x-python",
   "name": "python",
   "nbconvert_exporter": "python",
   "pygments_lexer": "ipython3",
   "version": "3.7.12"
  }
 },
 "nbformat": 4,
 "nbformat_minor": 5
}
