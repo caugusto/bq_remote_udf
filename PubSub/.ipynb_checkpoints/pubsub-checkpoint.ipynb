{
 "cells": [
  {
   "cell_type": "code",
   "execution_count": null,
   "id": "ba5c7a33-da52-49b4-812d-831429743c45",
   "metadata": {},
   "outputs": [],
   "source": [
    "! gcloud functions deploy pubsub_message \\\n",
    "--runtime python310 --trigger-http"
   ]
  },
  {
   "cell_type": "code",
   "execution_count": null,
   "id": "533dcdef-5bf1-4bb2-8e70-9058e6aae4b9",
   "metadata": {},
   "outputs": [],
   "source": [
    "%%bigquery \n",
    "CREATE OR REPLACE FUNCTION `<project>.<dataset>.publish_message` (x STRING) RETURNS STRING \n",
    "REMOTE WITH CONNECTION `<your-connection>` \n",
    "OPTIONS (endpoint = 'https://<your-endpoint>.cloudfunctions.net/pubsub_message')\n",
    ";"
   ]
  },
  {
   "cell_type": "code",
   "execution_count": null,
   "id": "36e379cd-0209-48e8-b7a2-d478e16f4665",
   "metadata": {},
   "outputs": [],
   "source": [
    "%%bigquery\n",
    "select <dataset>.publish_message(\"Test Message from solution accelerator\")"
   ]
  },
  {
   "cell_type": "code",
   "execution_count": null,
   "id": "385bf7fe-2ece-42d4-a35f-729af284f186",
   "metadata": {},
   "outputs": [],
   "source": []
  }
 ],
 "metadata": {
  "environment": {
   "kernel": "python3",
   "name": "common-cpu.m96",
   "type": "gcloud",
   "uri": "gcr.io/deeplearning-platform-release/base-cpu:m96"
  },
  "kernelspec": {
   "display_name": "Python 3",
   "language": "python",
   "name": "python3"
  },
  "language_info": {
   "codemirror_mode": {
    "name": "ipython",
    "version": 3
   },
   "file_extension": ".py",
   "mimetype": "text/x-python",
   "name": "python",
   "nbconvert_exporter": "python",
   "pygments_lexer": "ipython3",
   "version": "3.7.12"
  }
 },
 "nbformat": 4,
 "nbformat_minor": 5
}
